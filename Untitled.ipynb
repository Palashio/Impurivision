{
 "cells": [
  {
   "cell_type": "code",
   "execution_count": 23,
   "metadata": {},
   "outputs": [
    {
     "name": "stdout",
     "output_type": "stream",
     "text": [
      "[112 225 255 255 255 252 115 225 235 145 167 123\n"
     ]
    }
   ],
   "source": [
    "import pandas\n",
    "import numpy as np\n",
    "from PIL import Image\n",
    "\n",
    "clean = np.asarray(Image.open('clean.jpg'))\n",
    "pesticide= np.asarray(Image.open('pesticide.jpg'))\n",
    "\n",
    "hello = np.unique(pesticide)\n",
    "\n",
    "[112 225 255 255 255 252 115 225 235 145 167 123\n",
    " 112 225 255 255 255 252 115 225 235 145 167 123\n",
    " 112 227 255 255 255 252 115 225 235 145 167 123\n",
    " 112 145 255 255 155 252 115 225 235 145 167 123\n",
    " 112 235 255 155 255 252 111 225 232 145 167 123\n",
    " 112 225 255 215 255 252 115 125 235 145 167 123\n",
    " 112 235 255 255 255 252 115 225 235 145 167 123]\n",
    "    \n",
    "    \n",
    "    \n",
    "[112 225 255 255 255 252 115 225 235 145 167 123\n",
    " 112 225 255 255 255 252 115 225 235 145 167 123\n",
    " 112 225 255 255 255 252 115 225 235 145 167 123\n",
    " 112 225 255 255 255 252 115 225 235 145 167 123\n",
    " 112 225 255 255 255 252 115 225 235 145 167 123\n",
    " 112 225 255 255 255 252 115 225 235 145 167 123\n",
    " 112 225 255 255 255 252 115 225 235 145 167 123]\n",
    "    \n",
    "\n",
    "        \n",
    "    \n",
    "        \n",
    "        \n",
    "          \n",
    "        \n",
    "        \n",
    "    "
   ]
  }
 ],
 "metadata": {
  "kernelspec": {
   "display_name": "Python 3",
   "language": "python",
   "name": "python3"
  },
  "language_info": {
   "codemirror_mode": {
    "name": "ipython",
    "version": 3
   },
   "file_extension": ".py",
   "mimetype": "text/x-python",
   "name": "python",
   "nbconvert_exporter": "python",
   "pygments_lexer": "ipython3",
   "version": "3.6.1"
  }
 },
 "nbformat": 4,
 "nbformat_minor": 2
}
