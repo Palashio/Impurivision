{
 "cells": [
  {
   "cell_type": "code",
   "execution_count": null,
   "metadata": {
    "collapsed": true
   },
   "outputs": [],
   "source": [
    "import math\n",
    "import keras \n",
    "import tensorflow as tf\n",
    "from keras import backend as K\n",
    "from keras.preprocessing.image import ImageDataGenerator\n",
    "from keras.layers import Conv2D, MaxPool2D, Dropout, Activation, Dense, Flatten\n",
    "import tensorflow as tf\n",
    "from keras.models import Sequential\n",
    "\n",
    "\n",
    "#image_example = Image.open('forexample.png')\n",
    "#img_width, img_height = image_example.size\n",
    "\n",
    "train_datagen = ImageDataGenerator(\n",
    "        horizontal_flip = False)\n",
    "train_generator = train_datagen.flow_from_directory(\n",
    "        '/Users/PALASH/Desktop/impurivision',\n",
    "        batch_size = 1,\n",
    "        class_mode = 'categorical',\n",
    "        classes = ['safe_training','unsafe_training'],\n",
    "        target_size = (540,960))\n",
    "test_datagen = ImageDataGenerator()\n",
    "validation_generator = test_datagen.flow_from_directory(\n",
    "        '/Users/PALASH/Desktop/impurivision',\n",
    "        batch_size = 1,\n",
    "        class_mode = 'categorical',\n",
    "        classes = ['safe_test', 'unsafe_test'],\n",
    "        target_size = (540,960))\n",
    "\n",
    "model = Sequential()\n",
    "model.add(Conv2D(32,(26,26), input_shape=(540,960,3))) #26 * 26 Convolutional Layer with 32 Filters\n",
    "model.add(Activation('relu'))\n",
    "model.add(Conv2D(14,14))\n",
    "model.add(Activation('relu'))\n",
    "model.add(Conv2D(9,9))\n",
    "model.add(MaxPool2D(pool_size=(2,2)))\n",
    "model.add(Conv2D(3,3))\n",
    "model.add(Activation('relu'))\n",
    "model.add(MaxPool2D(pool_size=(2,2)))\n",
    "model.add(Flatten())\n",
    "model.add(Dense(128))\n",
    "model.add(Dense(64))\n",
    "model.add(Dense(2))\n",
    "model.add(Activation('softmax'))\n",
    "model.compile(loss='categorical_crossentropy',\n",
    "              optimizer='rmsprop',\n",
    "              metrics = ['accuracy'])          \n",
    "\n",
    "\n",
    "model.fit_generator(train_generator,\n",
    "                    epochs=1,\n",
    "                    validation_data=validation_generator,\n",
    "                    validation_steps = 5)\n"
   ]
  }
 ],
 "metadata": {
  "kernelspec": {
   "display_name": "Python 3",
   "language": "python",
   "name": "python3"
  },
  "language_info": {
   "codemirror_mode": {
    "name": "ipython",
    "version": 3
   },
   "file_extension": ".py",
   "mimetype": "text/x-python",
   "name": "python",
   "nbconvert_exporter": "python",
   "pygments_lexer": "ipython3",
   "version": "3.6.1"
  }
 },
 "nbformat": 4,
 "nbformat_minor": 2
}
