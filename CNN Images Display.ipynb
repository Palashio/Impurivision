{
 "cells": [
  {
   "cell_type": "code",
   "execution_count": 37,
   "metadata": {},
   "outputs": [
    {
     "ename": "SyntaxError",
     "evalue": "invalid syntax (<ipython-input-37-c40a62f68a03>, line 48)",
     "output_type": "error",
     "traceback": [
      "\u001b[0;36m  File \u001b[0;32m\"<ipython-input-37-c40a62f68a03>\"\u001b[0;36m, line \u001b[0;32m48\u001b[0m\n\u001b[0;31m    model.add(MaxPool2D(pool_size=(2,2)))\u001b[0m\n\u001b[0m        ^\u001b[0m\n\u001b[0;31mSyntaxError\u001b[0m\u001b[0;31m:\u001b[0m invalid syntax\n"
     ]
    }
   ],
   "source": [
    "import tensorflow as tf \n",
    "import keras \n",
    "from keras.layers import Conv2D, Activation, MaxPool2D, Dense\n",
    "import numpy as np\n",
    "from keras.models import Sequential\n",
    "import matplotlib.pyplot as plt\n",
    "import PIL\n",
    "from PIL import Image\n",
    "import cv2\n",
    "import matplotlib.image as Image\n",
    "\n",
    "%matplotlib inline\n",
    "\n",
    "\n",
    "#water = Image.open('../input/IMG_20171219_122203_diff.png')\n",
    "#water = np.asarray(water)\n",
    "water = (cv2.imread('/Users/PalashShah/Desktop/impure/unsafe_training/IMG_20171222_170308_diff.png_2.png'))\n",
    "plt.imshow(water)\n",
    "#model = Sequential()\n",
    "#model.add(Conv2D(3,(3,3), input_shape = water.shape))\n",
    "#water_batch = np.expand_dims(water,axis=0)\n",
    "#conv_water = model.predict(water_batch)\n",
    "\n",
    "#def visualize_water(water_batch):\n",
    "#        water = np.squeeze(water_batch, axis=0)\n",
    "#        print (water.shape)\n",
    "#        plt.imshow(water)\n",
    "        \n",
    "def water_printer(model,water):\n",
    "    water_batch = np.expand_dims(water,axis=0)\n",
    "    conv_water = model.predict(water_batch)\n",
    "    conv_water = np.squeeze(conv_water2, axis=0)\n",
    "    print (conv_water2.shape)\n",
    "    conv_water = conv_water.reshape(conv_water.shape[:2])\n",
    "    \n",
    "    print (conv_water.shape)\n",
    "    plt.imshow(conv_water)\n",
    "    \n",
    "model = Sequential()\n",
    "model.add(Conv2D(1,\n",
    "                 26,\n",
    "                 26,\n",
    "                 input_shape = water.shape))\n",
    "model.add(Activation('relu'))\n",
    "model.add(Conv2D(1,(14,14)))\n",
    "model.add(Activation('relu'))\n",
    "model.add(Conv2D(1,(9,9)))\n",
    "model.add(MaxPool2D(pool_size=(2,2)))\n",
    "model.add(Conv2D(1,(3,3))\n",
    "model.add(Activation('relu'))\n",
    "model.add(MaxPool2D(pool_size=(2,2)))\n",
    "\n",
    "\n",
    "#model.add(MaxPool2D(pool_size=(2,2)))\n",
    "\n",
    "water_printer(model,water)\n",
    "        "
   ]
  }
 ],
 "metadata": {
  "kernelspec": {
   "display_name": "Python 3",
   "language": "python",
   "name": "python3"
  },
  "language_info": {
   "codemirror_mode": {
    "name": "ipython",
    "version": 3
   },
   "file_extension": ".py",
   "mimetype": "text/x-python",
   "name": "python",
   "nbconvert_exporter": "python",
   "pygments_lexer": "ipython3",
   "version": "3.6.1"
  }
 },
 "nbformat": 4,
 "nbformat_minor": 2
}
